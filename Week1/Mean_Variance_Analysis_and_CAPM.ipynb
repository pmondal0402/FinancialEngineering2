{
  "nbformat": 4,
  "nbformat_minor": 0,
  "metadata": {
    "colab": {
      "name": "Mean-Variance Analysis and CAPM.ipynb",
      "provenance": []
    },
    "kernelspec": {
      "name": "python3",
      "display_name": "Python 3"
    }
  },
  "cells": [
    {
      "cell_type": "code",
      "metadata": {
        "id": "NtANV2DjKcYB"
      },
      "source": [
        "import numpy as np\n",
        "from scipy.optimize import minimize"
      ],
      "execution_count": 32,
      "outputs": []
    },
    {
      "cell_type": "code",
      "metadata": {
        "id": "I5KQJvqyLYOO"
      },
      "source": [
        "# Input params\n",
        "riskyReturn = np.array([ 6, 2, 4])/100\n",
        "riskyCov = np.array([[8, -2, 4], [-2, 2, -2], [4, -2, 8]])/1000\n",
        "riskFreereturn = 1/100 \n"
      ],
      "execution_count": 72,
      "outputs": []
    },
    {
      "cell_type": "code",
      "metadata": {
        "colab": {
          "base_uri": "https://localhost:8080/"
        },
        "id": "lK-baxfZKo6A",
        "outputId": "697bf776-50d9-45aa-c352-4d680a965a41"
      },
      "source": [
        "# Q1\n",
        "x = np.array([ 1, 1, 1])*1/3\n",
        "Return = np.dot(riskyReturn, x)\n",
        "print('The mean return of portfolio with only risky return', round(Return*100, 2))"
      ],
      "execution_count": 62,
      "outputs": [
        {
          "output_type": "stream",
          "text": [
            "The mean return of portfolio with only risky return 4.0\n"
          ],
          "name": "stdout"
        }
      ]
    },
    {
      "cell_type": "code",
      "metadata": {
        "colab": {
          "base_uri": "https://localhost:8080/"
        },
        "id": "VAQOPsy7KwQk",
        "outputId": "a1fc3055-e7da-4629-f776-a084c6c9eacc"
      },
      "source": [
        "round(x[0], 3)"
      ],
      "execution_count": 28,
      "outputs": [
        {
          "output_type": "execute_result",
          "data": {
            "text/plain": [
              "0.333"
            ]
          },
          "metadata": {
            "tags": []
          },
          "execution_count": 28
        }
      ]
    },
    {
      "cell_type": "code",
      "metadata": {
        "colab": {
          "base_uri": "https://localhost:8080/"
        },
        "id": "hZNI9DTxK35L",
        "outputId": "8232d5e1-4180-40d6-8ee9-6397c203efeb"
      },
      "source": [
        "# Q2\n",
        "riskPortfolioVar = np.sqrt(np.dot(x, np.dot(riskyCov, x)))\n",
        "print('Volatility of return', round(riskPortfolioVar*100, 2))"
      ],
      "execution_count": 30,
      "outputs": [
        {
          "output_type": "stream",
          "text": [
            "Volatility of return 4.47\n"
          ],
          "name": "stdout"
        }
      ]
    },
    {
      "cell_type": "code",
      "metadata": {
        "colab": {
          "base_uri": "https://localhost:8080/"
        },
        "id": "xVuOJVTfOppU",
        "outputId": "9ad348bc-2e9f-4e70-ea65-72a1ff31f5d1"
      },
      "source": [
        "# Q3\n",
        "def calc_var(x, cov):\n",
        "  \"\"\"\n",
        "  x : 1D numpy array, portfolio vector\n",
        "  cov : 2D numpy array, Covariance matrix\n",
        "  Returns : variance of x given covariance matrix V \n",
        "  \"\"\"\n",
        "  return np.dot(x, np.dot(cov, x))\n",
        "\n",
        "cons =  ({'type': 'eq', 'fun': lambda x:  np.sum(x)-1.})  \n",
        "res = minimize(calc_var, x, args = riskyCov, method = 'SLSQP', \n",
        "                 constraints = cons, tol=1e-6)\n",
        "\n",
        "# Returns portfolio with min variance\n",
        "minVarPortfolio = res.x\n",
        "# Compute return of such portfolio\n",
        "portfolioReturn = np.dot(riskyReturn, minVarPortfolio)\n",
        "print('Return from min variance portfolio with risky return', \n",
        "                                            round(portfolioReturn*100, 2))"
      ],
      "execution_count": 41,
      "outputs": [
        {
          "output_type": "stream",
          "text": [
            "Return from min variance portfolio with risky return 3.0\n"
          ],
          "name": "stdout"
        }
      ]
    },
    {
      "cell_type": "code",
      "metadata": {
        "colab": {
          "base_uri": "https://localhost:8080/"
        },
        "id": "BRZLJFmpO4Mb",
        "outputId": "940cf501-18f3-4038-9a60-15d2a137d283"
      },
      "source": [
        "# Q4\n",
        "riskAversion = 1\n",
        "excessReturn = riskyReturn - riskFreereturn\n",
        "\n",
        "sharpeOptimalPortfolio = (1/(2*riskAversion))*np.dot(np.linalg.inv(riskyCov), \n",
        "                                                                excessReturn)\n",
        "print(sharpeOptimalPortfolio)\n",
        "sharpeOptimalPortfolio /=sum(sharpeOptimalPortfolio)\n",
        "sharpeReturn = np.dot(riskyReturn, sharpeOptimalPortfolio)\n",
        "print('Mean return of Sharpe optimal portfolio', \n",
        "                                       round(sharpeReturn*100, 2))"
      ],
      "execution_count": 65,
      "outputs": [
        {
          "output_type": "stream",
          "text": [
            "[4.375 8.75  1.875]\n",
            "Mean return of Sharpe optimal portfolio 3.42\n"
          ],
          "name": "stdout"
        }
      ]
    },
    {
      "cell_type": "code",
      "metadata": {
        "colab": {
          "base_uri": "https://localhost:8080/"
        },
        "id": "3ytqANiaTGhn",
        "outputId": "50d82c77-b3bf-4f57-c4e3-2f3f8649577f"
      },
      "source": [
        "# Q5 \n",
        "sharpeVol = np.sqrt(np.dot(sharpeOptimalPortfolio, \n",
        "                           np.dot(riskyCov, sharpeOptimalPortfolio)))\n",
        "print('Volatility of sharpe portfolio', round(sharpeVol*100, 2))"
      ],
      "execution_count": 66,
      "outputs": [
        {
          "output_type": "stream",
          "text": [
            "Volatility of sharpe portfolio 2.84\n"
          ],
          "name": "stdout"
        }
      ]
    },
    {
      "cell_type": "code",
      "metadata": {
        "colab": {
          "base_uri": "https://localhost:8080/"
        },
        "id": "-n7IKNjwVjP3",
        "outputId": "600b2f1f-1b9a-4dc3-c6e8-e583c7214aa5"
      },
      "source": [
        "# Q6\n",
        "slope = (sharpeReturn - riskFreereturn)/sharpeVol\n",
        "print('Slope of capital market line', round(slope, 2))"
      ],
      "execution_count": 79,
      "outputs": [
        {
          "output_type": "stream",
          "text": [
            "Slope of capital market line 0.85\n"
          ],
          "name": "stdout"
        }
      ]
    },
    {
      "cell_type": "code",
      "metadata": {
        "colab": {
          "base_uri": "https://localhost:8080/"
        },
        "id": "_4Vv8UjnYWTP",
        "outputId": "91e2592b-8214-4cdb-b781-eb29484da9f7"
      },
      "source": [
        "# Q7\n",
        "OpportunityVol = 5/100\n",
        "expectedReturn = riskFreereturn + slope*OpportunityVol\n",
        "print('Expected return from the opportunity is', round(expectedReturn*100, 2))"
      ],
      "execution_count": 80,
      "outputs": [
        {
          "output_type": "stream",
          "text": [
            "Expected return from the opportunity is 5.26\n"
          ],
          "name": "stdout"
        }
      ]
    },
    {
      "cell_type": "code",
      "metadata": {
        "id": "EM7WVpjRYc04"
      },
      "source": [
        ""
      ],
      "execution_count": 78,
      "outputs": []
    },
    {
      "cell_type": "code",
      "metadata": {
        "id": "GZwQyvgCZF2v"
      },
      "source": [
        ""
      ],
      "execution_count": null,
      "outputs": []
    }
  ]
}