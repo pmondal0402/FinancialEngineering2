{
  "nbformat": 4,
  "nbformat_minor": 0,
  "metadata": {
    "colab": {
      "name": "Practical Issues in Implementing Mean Variance .ipynb",
      "provenance": []
    },
    "kernelspec": {
      "name": "python3",
      "display_name": "Python 3"
    }
  },
  "cells": [
    {
      "cell_type": "code",
      "metadata": {
        "id": "KnZgTscLDaI0"
      },
      "source": [
        "import math"
      ],
      "execution_count": 1,
      "outputs": []
    },
    {
      "cell_type": "code",
      "metadata": {
        "id": "c7vEc6_NFVJT"
      },
      "source": [
        "# Q1\n",
        "# 5.32"
      ],
      "execution_count": 3,
      "outputs": []
    },
    {
      "cell_type": "code",
      "metadata": {
        "id": "Qtj2VTKAFXgB"
      },
      "source": [
        "# Q2\n",
        "# 3.86 "
      ],
      "execution_count": null,
      "outputs": []
    },
    {
      "cell_type": "code",
      "metadata": {
        "id": "jvQfIjKfDwR7"
      },
      "source": [
        "# Q3\n",
        "# p = .9\n",
        "# K_p = 54\n",
        "# 1.29"
      ],
      "execution_count": 2,
      "outputs": []
    },
    {
      "cell_type": "code",
      "metadata": {
        "id": "hSpY9l3aFN6e"
      },
      "source": [
        "# Q4\n",
        "# N = 60\n",
        "# \n",
        "# 1./(N*(1.-p)) * sum of values >= .9 prob\n",
        "# 2.16\n"
      ],
      "execution_count": 4,
      "outputs": []
    },
    {
      "cell_type": "code",
      "metadata": {
        "colab": {
          "base_uri": "https://localhost:8080/"
        },
        "id": "vT1uvotUFiKC",
        "outputId": "f6a2f04b-cf01-4892-a30a-6721af37f44b"
      },
      "source": [
        "# Q5 \n",
        "def nCr(n, r):\n",
        "  f = math.factorial\n",
        "  return f(n)/(f(r)*f(n-r))\n",
        "\n",
        "n = 15\n",
        "p = 0.5\n",
        "probNoSkill = 0\n",
        "X = 12 # Number of years the manager outperformed the market\n",
        "\n",
        "for r in range(X, n+1):\n",
        "  probNoSkill += nCr(n, r)*p**r*(1-p)**(n-r)\n",
        "\n",
        "print('Probaility of that track record with no skills is\\n', \n",
        "                                          round(probNoSkill, 4))"
      ],
      "execution_count": 10,
      "outputs": [
        {
          "output_type": "stream",
          "text": [
            "Probaility of that track record with no skills is\n",
            " 0.0176\n"
          ],
          "name": "stdout"
        }
      ]
    },
    {
      "cell_type": "code",
      "metadata": {
        "colab": {
          "base_uri": "https://localhost:8080/"
        },
        "id": "23gPQ6FIINlf",
        "outputId": "3cfba617-242c-466d-f353-6ae1f087d165"
      },
      "source": [
        "# Q6\n",
        "n = 15\n",
        "p = 0.5 # probability for no skills\n",
        "probNoSkill = 0\n",
        "X = 14\n",
        "for r in range(X, n+1):\n",
        "  probNoSkill += nCr(n, r)*p**r*(1-p)**(n-r)\n",
        "\n",
        "M = 100 # Total number of managers\n",
        "ProbBestManagerSkill = 1 - (1 - probNoSkill)**M\n",
        "print('The probability that best manager has track record of this or better\\n',\n",
        "                                                round(ProbBestManagerSkill, 4))"
      ],
      "execution_count": 12,
      "outputs": [
        {
          "output_type": "stream",
          "text": [
            "The probability that best manager has track record of this or better\n",
            " 0.0477\n"
          ],
          "name": "stdout"
        }
      ]
    },
    {
      "cell_type": "code",
      "metadata": {
        "id": "TqZc02KwLGao"
      },
      "source": [
        "# Q 7\n",
        "\"\"\"\n",
        "Consider a version of the Monty Hall problem where there are 4 doors. There are goats behind 2 of the doors and valuable prizes behind the other two doors. The game is played as follows:\n",
        "\n",
        "    You first choose a door.\n",
        "    Before your chosen door is opened Monty Hall opens one of the other 3 doors and reveals a goat behind that door.\n",
        "    He now gives you the opportunity to change your mind and select another door.\n",
        "    Your chosen door is now opened and your prize is revealed.\n",
        "\n",
        "If you behave optimally, what is the probability that you will win one of the valuable prizes?\n",
        "\"\"\"\n",
        "\n",
        "# Ans. "
      ],
      "execution_count": null,
      "outputs": []
    },
    {
      "cell_type": "markdown",
      "metadata": {
        "id": "7O2MtGLpRQB2"
      },
      "source": [
        "Consider four closed doors. We are assuming that we are going to switch at the end when one door is opened. \n",
        "We have :\n",
        "\n",
        "door 1 | door 2 | door 3 | door 4 \n",
        "\n",
        "Let us assume the dooe have the following which we do not know about :\n",
        "\n",
        "Goat | Prize | Prize | Goat \n",
        "\n",
        "\n",
        "Now there are three possible situations of how we can win one of the prize by switching :\n",
        "\n",
        "1. Pick door 1 and switch to door 2 \n",
        "2. Pick door 4 and switch to door 2\n",
        "3. Pick door 3 and switch to door 2\n",
        "\n",
        "So, the probability that I get a prize by switching after one door is revealed is 3 out of 4 times i.e. 0.75."
      ]
    },
    {
      "cell_type": "code",
      "metadata": {
        "id": "S6Jk4i8nS5fB"
      },
      "source": [
        ""
      ],
      "execution_count": null,
      "outputs": []
    }
  ]
}